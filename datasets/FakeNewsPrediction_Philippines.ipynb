{
  "nbformat": 4,
  "nbformat_minor": 0,
  "metadata": {
    "colab": {
      "name": "FakeNewsPrediction-Philippines.ipynb",
      "provenance": [],
      "collapsed_sections": []
    },
    "kernelspec": {
      "name": "python3",
      "display_name": "Python 3"
    },
    "language_info": {
      "name": "python"
    }
  },
  "cells": [
    {
      "cell_type": "code",
      "metadata": {
        "colab": {
          "base_uri": "https://localhost:8080/"
        },
        "id": "Sbpqk9giKdkx",
        "outputId": "14aa2310-c4de-44cd-ad0d-4f0a2b9cef8f"
      },
      "source": [
        "from google.colab import drive\n",
        "drive.mount('/gdrive')"
      ],
      "execution_count": 53,
      "outputs": [
        {
          "output_type": "stream",
          "name": "stdout",
          "text": [
            "Mounted at /gdrive\n"
          ]
        }
      ]
    },
    {
      "cell_type": "code",
      "metadata": {
        "id": "QltPrczbbn3W"
      },
      "source": [
        "import pandas as pd"
      ],
      "execution_count": 54,
      "outputs": []
    },
    {
      "cell_type": "code",
      "metadata": {
        "id": "IxJpIwMGKmdf"
      },
      "source": [
        "datasets = pd.read_csv('/gdrive/My Drive/Colab Notebooks/FakeNewsPrediction/PhilippineFakeNewsCorpus.csv')"
      ],
      "execution_count": 55,
      "outputs": []
    },
    {
      "cell_type": "code",
      "metadata": {
        "colab": {
          "base_uri": "https://localhost:8080/",
          "height": 207
        },
        "id": "wzN4_ss4bO-P",
        "outputId": "182fa094-a93c-483e-83e2-b3d3a44241a8"
      },
      "source": [
        "datasets.head()"
      ],
      "execution_count": 58,
      "outputs": [
        {
          "output_type": "execute_result",
          "data": {
            "text/html": [
              "<div>\n",
              "<style scoped>\n",
              "    .dataframe tbody tr th:only-of-type {\n",
              "        vertical-align: middle;\n",
              "    }\n",
              "\n",
              "    .dataframe tbody tr th {\n",
              "        vertical-align: top;\n",
              "    }\n",
              "\n",
              "    .dataframe thead th {\n",
              "        text-align: right;\n",
              "    }\n",
              "</style>\n",
              "<table border=\"1\" class=\"dataframe\">\n",
              "  <thead>\n",
              "    <tr style=\"text-align: right;\">\n",
              "      <th></th>\n",
              "      <th>Headline</th>\n",
              "      <th>Content</th>\n",
              "      <th>Authors</th>\n",
              "      <th>Date</th>\n",
              "      <th>URL</th>\n",
              "      <th>Brand</th>\n",
              "      <th>Label</th>\n",
              "    </tr>\n",
              "  </thead>\n",
              "  <tbody>\n",
              "    <tr>\n",
              "      <th>0</th>\n",
              "      <td>PH ranks 2nd in Asia-Pacific in deaths due to ...</td>\n",
              "      <td>Pollution caused by traditional cooking fuel i...</td>\n",
              "      <td>['Philippine Daily Inquirer']</td>\n",
              "      <td>NaN</td>\n",
              "      <td>https://newsinfo.inquirer.net/987262/ph-ranks-...</td>\n",
              "      <td>Inquirer</td>\n",
              "      <td>Credible</td>\n",
              "    </tr>\n",
              "    <tr>\n",
              "      <th>1</th>\n",
              "      <td>Aguirre, PCSO chief deny plotting to kill ‘Ato...</td>\n",
              "      <td>Justice Secretary Vitaliano Aguirre 2nd and Ph...</td>\n",
              "      <td>['Jomar Canlas']</td>\n",
              "      <td>2017-04-28 20:12:54+00:00</td>\n",
              "      <td>https://www.manilatimes.net/aguirre-pcso-chief...</td>\n",
              "      <td>Manila Times</td>\n",
              "      <td>Credible</td>\n",
              "    </tr>\n",
              "    <tr>\n",
              "      <th>2</th>\n",
              "      <td>Duterte says charges vs ex-President will fail</td>\n",
              "      <td>President Rodrigo Duterte on Monday night desc...</td>\n",
              "      <td>['Christine O. Avendaño']</td>\n",
              "      <td>NaN</td>\n",
              "      <td>https://newsinfo.inquirer.net/914727/duterte-s...</td>\n",
              "      <td>Inquirer</td>\n",
              "      <td>Credible</td>\n",
              "    </tr>\n",
              "    <tr>\n",
              "      <th>3</th>\n",
              "      <td>Group warns BFAR on law enforcement fund</td>\n",
              "      <td>THE militant fisher folk group Pambansang Laka...</td>\n",
              "      <td>['Neil Alcober']</td>\n",
              "      <td>2017-08-12 19:54:48+00:00</td>\n",
              "      <td>https://www.manilatimes.net/group-warns-bfar-l...</td>\n",
              "      <td>Manila Times</td>\n",
              "      <td>Credible</td>\n",
              "    </tr>\n",
              "    <tr>\n",
              "      <th>4</th>\n",
              "      <td>Solon asks Duterte for jet ski to Panatag</td>\n",
              "      <td>Magdalo Rep. Gary Alejano is willing to lead t...</td>\n",
              "      <td>['Dj Yap']</td>\n",
              "      <td>NaN</td>\n",
              "      <td>https://newsinfo.inquirer.net/882744/solon-ask...</td>\n",
              "      <td>Inquirer</td>\n",
              "      <td>Credible</td>\n",
              "    </tr>\n",
              "  </tbody>\n",
              "</table>\n",
              "</div>"
            ],
            "text/plain": [
              "                                            Headline  ...     Label\n",
              "0  PH ranks 2nd in Asia-Pacific in deaths due to ...  ...  Credible\n",
              "1  Aguirre, PCSO chief deny plotting to kill ‘Ato...  ...  Credible\n",
              "2     Duterte says charges vs ex-President will fail  ...  Credible\n",
              "3           Group warns BFAR on law enforcement fund  ...  Credible\n",
              "4          Solon asks Duterte for jet ski to Panatag  ...  Credible\n",
              "\n",
              "[5 rows x 7 columns]"
            ]
          },
          "metadata": {},
          "execution_count": 58
        }
      ]
    },
    {
      "cell_type": "code",
      "metadata": {
        "colab": {
          "base_uri": "https://localhost:8080/"
        },
        "id": "iBOcjvynfvHQ",
        "outputId": "fdaf8479-63ab-44bf-cb49-7f7b96ec1e4d"
      },
      "source": [
        "datasets.shape"
      ],
      "execution_count": 59,
      "outputs": [
        {
          "output_type": "execute_result",
          "data": {
            "text/plain": [
              "(22458, 7)"
            ]
          },
          "metadata": {},
          "execution_count": 59
        }
      ]
    },
    {
      "cell_type": "code",
      "metadata": {
        "id": "8sIuH0LvbR01"
      },
      "source": [
        "datasets['Label'] = datasets['Label'].astype('category').cat.codes\n",
        "datasets.drop('Date', axis=1, inplace=True)\n",
        "datasets.drop('Authors', axis=1, inplace=True)\n",
        "datasets.drop('URL', axis=1, inplace=True)\n",
        "# 0 = Credible or True\n",
        "# 1 = Not Crediblle or Fake"
      ],
      "execution_count": 62,
      "outputs": []
    },
    {
      "cell_type": "code",
      "metadata": {
        "colab": {
          "base_uri": "https://localhost:8080/",
          "height": 207
        },
        "id": "MMXZ46JFgGAy",
        "outputId": "ac2f9580-1897-4cae-f734-e354ac007a77"
      },
      "source": [
        "datasets.head()"
      ],
      "execution_count": 63,
      "outputs": [
        {
          "output_type": "execute_result",
          "data": {
            "text/html": [
              "<div>\n",
              "<style scoped>\n",
              "    .dataframe tbody tr th:only-of-type {\n",
              "        vertical-align: middle;\n",
              "    }\n",
              "\n",
              "    .dataframe tbody tr th {\n",
              "        vertical-align: top;\n",
              "    }\n",
              "\n",
              "    .dataframe thead th {\n",
              "        text-align: right;\n",
              "    }\n",
              "</style>\n",
              "<table border=\"1\" class=\"dataframe\">\n",
              "  <thead>\n",
              "    <tr style=\"text-align: right;\">\n",
              "      <th></th>\n",
              "      <th>Headline</th>\n",
              "      <th>Content</th>\n",
              "      <th>Brand</th>\n",
              "      <th>Label</th>\n",
              "    </tr>\n",
              "  </thead>\n",
              "  <tbody>\n",
              "    <tr>\n",
              "      <th>0</th>\n",
              "      <td>PH ranks 2nd in Asia-Pacific in deaths due to ...</td>\n",
              "      <td>Pollution caused by traditional cooking fuel i...</td>\n",
              "      <td>Inquirer</td>\n",
              "      <td>0</td>\n",
              "    </tr>\n",
              "    <tr>\n",
              "      <th>1</th>\n",
              "      <td>Aguirre, PCSO chief deny plotting to kill ‘Ato...</td>\n",
              "      <td>Justice Secretary Vitaliano Aguirre 2nd and Ph...</td>\n",
              "      <td>Manila Times</td>\n",
              "      <td>0</td>\n",
              "    </tr>\n",
              "    <tr>\n",
              "      <th>2</th>\n",
              "      <td>Duterte says charges vs ex-President will fail</td>\n",
              "      <td>President Rodrigo Duterte on Monday night desc...</td>\n",
              "      <td>Inquirer</td>\n",
              "      <td>0</td>\n",
              "    </tr>\n",
              "    <tr>\n",
              "      <th>3</th>\n",
              "      <td>Group warns BFAR on law enforcement fund</td>\n",
              "      <td>THE militant fisher folk group Pambansang Laka...</td>\n",
              "      <td>Manila Times</td>\n",
              "      <td>0</td>\n",
              "    </tr>\n",
              "    <tr>\n",
              "      <th>4</th>\n",
              "      <td>Solon asks Duterte for jet ski to Panatag</td>\n",
              "      <td>Magdalo Rep. Gary Alejano is willing to lead t...</td>\n",
              "      <td>Inquirer</td>\n",
              "      <td>0</td>\n",
              "    </tr>\n",
              "  </tbody>\n",
              "</table>\n",
              "</div>"
            ],
            "text/plain": [
              "                                            Headline  ... Label\n",
              "0  PH ranks 2nd in Asia-Pacific in deaths due to ...  ...     0\n",
              "1  Aguirre, PCSO chief deny plotting to kill ‘Ato...  ...     0\n",
              "2     Duterte says charges vs ex-President will fail  ...     0\n",
              "3           Group warns BFAR on law enforcement fund  ...     0\n",
              "4          Solon asks Duterte for jet ski to Panatag  ...     0\n",
              "\n",
              "[5 rows x 4 columns]"
            ]
          },
          "metadata": {},
          "execution_count": 63
        }
      ]
    },
    {
      "cell_type": "code",
      "metadata": {
        "id": "VV0PHT2tgGDg"
      },
      "source": [
        "X = datasets. drop('Label', axis=1)\n",
        "y = datasets['Label']"
      ],
      "execution_count": 66,
      "outputs": []
    },
    {
      "cell_type": "code",
      "metadata": {
        "colab": {
          "base_uri": "https://localhost:8080/",
          "height": 207
        },
        "id": "YBBsj8cwhg4w",
        "outputId": "0eba9aa5-7a10-4dd7-fd57-45c7c02b9958"
      },
      "source": [
        "datasets = datasets.dropna()\n",
        "df = datasets.copy()\n",
        "\n",
        "df.reset_index(inplace=True)\n",
        "df.head()"
      ],
      "execution_count": 67,
      "outputs": [
        {
          "output_type": "execute_result",
          "data": {
            "text/html": [
              "<div>\n",
              "<style scoped>\n",
              "    .dataframe tbody tr th:only-of-type {\n",
              "        vertical-align: middle;\n",
              "    }\n",
              "\n",
              "    .dataframe tbody tr th {\n",
              "        vertical-align: top;\n",
              "    }\n",
              "\n",
              "    .dataframe thead th {\n",
              "        text-align: right;\n",
              "    }\n",
              "</style>\n",
              "<table border=\"1\" class=\"dataframe\">\n",
              "  <thead>\n",
              "    <tr style=\"text-align: right;\">\n",
              "      <th></th>\n",
              "      <th>index</th>\n",
              "      <th>Headline</th>\n",
              "      <th>Content</th>\n",
              "      <th>Brand</th>\n",
              "      <th>Label</th>\n",
              "    </tr>\n",
              "  </thead>\n",
              "  <tbody>\n",
              "    <tr>\n",
              "      <th>0</th>\n",
              "      <td>0</td>\n",
              "      <td>PH ranks 2nd in Asia-Pacific in deaths due to ...</td>\n",
              "      <td>Pollution caused by traditional cooking fuel i...</td>\n",
              "      <td>Inquirer</td>\n",
              "      <td>0</td>\n",
              "    </tr>\n",
              "    <tr>\n",
              "      <th>1</th>\n",
              "      <td>1</td>\n",
              "      <td>Aguirre, PCSO chief deny plotting to kill ‘Ato...</td>\n",
              "      <td>Justice Secretary Vitaliano Aguirre 2nd and Ph...</td>\n",
              "      <td>Manila Times</td>\n",
              "      <td>0</td>\n",
              "    </tr>\n",
              "    <tr>\n",
              "      <th>2</th>\n",
              "      <td>2</td>\n",
              "      <td>Duterte says charges vs ex-President will fail</td>\n",
              "      <td>President Rodrigo Duterte on Monday night desc...</td>\n",
              "      <td>Inquirer</td>\n",
              "      <td>0</td>\n",
              "    </tr>\n",
              "    <tr>\n",
              "      <th>3</th>\n",
              "      <td>3</td>\n",
              "      <td>Group warns BFAR on law enforcement fund</td>\n",
              "      <td>THE militant fisher folk group Pambansang Laka...</td>\n",
              "      <td>Manila Times</td>\n",
              "      <td>0</td>\n",
              "    </tr>\n",
              "    <tr>\n",
              "      <th>4</th>\n",
              "      <td>4</td>\n",
              "      <td>Solon asks Duterte for jet ski to Panatag</td>\n",
              "      <td>Magdalo Rep. Gary Alejano is willing to lead t...</td>\n",
              "      <td>Inquirer</td>\n",
              "      <td>0</td>\n",
              "    </tr>\n",
              "  </tbody>\n",
              "</table>\n",
              "</div>"
            ],
            "text/plain": [
              "   index  ... Label\n",
              "0      0  ...     0\n",
              "1      1  ...     0\n",
              "2      2  ...     0\n",
              "3      3  ...     0\n",
              "4      4  ...     0\n",
              "\n",
              "[5 rows x 5 columns]"
            ]
          },
          "metadata": {},
          "execution_count": 67
        }
      ]
    },
    {
      "cell_type": "code",
      "metadata": {
        "id": "SBGGKeJmhu-O"
      },
      "source": [
        "from nltk.corpus import stopwords\n",
        "from nltk.stem.porter import PorterStemmer\n",
        "ps = PorterStemmer()"
      ],
      "execution_count": 68,
      "outputs": []
    },
    {
      "cell_type": "code",
      "metadata": {
        "colab": {
          "base_uri": "https://localhost:8080/"
        },
        "id": "ObeGHHCaiKqm",
        "outputId": "531aa6c3-67c4-45e2-c330-75b02caddb03"
      },
      "source": [
        "import re\n",
        "import nltk\n",
        "nltk.download('stopwords')\n",
        "\n",
        "corpus = []\n",
        "for i in range(0, len(df)):\n",
        "    review = re.sub('[^a-zA-Z]', ' ', df['Content'][i])\n",
        "    review = review.lower()\n",
        "    review = review.split()\n",
        "    \n",
        "    review = [ps.stem(word) for word in review if not word in stopwords.words('english')]\n",
        "    review = ' '.join(review)\n",
        "    corpus.append(review)"
      ],
      "execution_count": 69,
      "outputs": [
        {
          "output_type": "stream",
          "name": "stdout",
          "text": [
            "[nltk_data] Downloading package stopwords to /root/nltk_data...\n",
            "[nltk_data]   Package stopwords is already up-to-date!\n"
          ]
        }
      ]
    },
    {
      "cell_type": "code",
      "metadata": {
        "id": "Ka3MyhvpiKvT"
      },
      "source": [
        "# TFidf Vectorizer\n",
        "from sklearn.feature_extraction.text import TfidfVectorizer\n",
        "tfidf_v = TfidfVectorizer(max_features=5000, ngram_range=(1,3))"
      ],
      "execution_count": 70,
      "outputs": []
    },
    {
      "cell_type": "code",
      "metadata": {
        "id": "HrQJeT-2iK0r"
      },
      "source": [
        "X = tfidf_v.fit_transform(corpus).toarray()\n",
        "y = df['Label']"
      ],
      "execution_count": 71,
      "outputs": []
    },
    {
      "cell_type": "code",
      "metadata": {
        "id": "u3t9VpNNoCA7"
      },
      "source": [
        "# Divide the dataset into Train and Test\n",
        "from sklearn.model_selection import train_test_split\n",
        "X_train, X_test, y_train, y_test = train_test_split(X, y, test_size=0.2, random_state=0)"
      ],
      "execution_count": 72,
      "outputs": []
    },
    {
      "cell_type": "code",
      "metadata": {
        "id": "Pg_ysv1jiK4c"
      },
      "source": [
        "from sklearn.linear_model import PassiveAggressiveClassifier\n",
        "classifier = PassiveAggressiveClassifier(max_iter=1000)"
      ],
      "execution_count": 73,
      "outputs": []
    },
    {
      "cell_type": "code",
      "metadata": {
        "colab": {
          "base_uri": "https://localhost:8080/"
        },
        "id": "GSCfD94hoKGI",
        "outputId": "3b10eb15-a645-40f7-b1a4-7d7b7c8dfd48"
      },
      "source": [
        "from sklearn import metrics\n",
        "import numpy as np\n",
        "import itertools\n",
        "\n",
        "classifier.fit(X_train, y_train)\n",
        "\n",
        "pred = classifier.predict(X_test)\n",
        "\n",
        "score = metrics.accuracy_score(y_test, pred)\n",
        "print(\"accuracy:   %0.3f\" % score)"
      ],
      "execution_count": 74,
      "outputs": [
        {
          "output_type": "stream",
          "name": "stdout",
          "text": [
            "accuracy:   0.940\n"
          ]
        }
      ]
    },
    {
      "cell_type": "code",
      "metadata": {
        "id": "mJlEA-PLoKKQ"
      },
      "source": [
        "import matplotlib.pyplot as plt\n",
        "\n",
        "def plot_confusion_matrix(cm, classes,\n",
        "                          normalize=False,\n",
        "                          title='Confusion matrix',\n",
        "                          cmap=plt.cm.Blues):\n",
        "    \"\"\"\n",
        "    See full source and example: \n",
        "    http://scikit-learn.org/stable/auto_examples/model_selection/plot_confusion_matrix.html\n",
        "    \n",
        "    This function prints and plots the confusion matrix.\n",
        "    Normalization can be applied by setting `normalize=True`.\n",
        "    \"\"\"\n",
        "    plt.imshow(cm, interpolation='nearest', cmap=cmap)\n",
        "    plt.title(title)\n",
        "    plt.colorbar()\n",
        "    tick_marks = np.arange(len(classes))\n",
        "    plt.xticks(tick_marks, classes, rotation=45)\n",
        "    plt.yticks(tick_marks, classes)\n",
        "\n",
        "    if normalize:\n",
        "        cm = cm.astype('float') / cm.sum(axis=1)[:, np.newaxis]\n",
        "        print(\"Normalized confusion matrix\")\n",
        "    else:\n",
        "        print('Confusion matrix, without normalization')\n",
        "\n",
        "    thresh = cm.max() / 2.\n",
        "    for i, j in itertools.product(range(cm.shape[0]), range(cm.shape[1])):\n",
        "        plt.text(j, i, cm[i, j],\n",
        "                 horizontalalignment=\"center\",\n",
        "                 color=\"white\" if cm[i, j] > thresh else \"black\")\n",
        "\n",
        "    plt.tight_layout()\n",
        "    plt.ylabel('True label')\n",
        "    plt.xlabel('Predicted label')"
      ],
      "execution_count": 76,
      "outputs": []
    },
    {
      "cell_type": "code",
      "metadata": {
        "colab": {
          "base_uri": "https://localhost:8080/",
          "height": 330
        },
        "id": "Seuk9w3loKRG",
        "outputId": "4662c714-1ff9-420e-9a5c-941d5f4d811d"
      },
      "source": [
        "cm = metrics.confusion_matrix(y_test, pred)\n",
        "plot_confusion_matrix(cm, classes=['FAKE', 'REAL'])"
      ],
      "execution_count": 39,
      "outputs": [
        {
          "output_type": "stream",
          "name": "stdout",
          "text": [
            "Confusion matrix, without normalization\n"
          ]
        },
        {
          "output_type": "display_data",
          "data": {
            "image/png": "[encoded data removed]",
            "text/plain": [
              "<Figure size 432x288 with 2 Axes>"
            ]
          },
          "metadata": {
            "needs_background": "light"
          }
        }
      ]
    },
    {
      "cell_type": "code",
      "metadata": {
        "colab": {
          "base_uri": "https://localhost:8080/",
          "height": 36
        },
        "id": "6ghV0yqWoKU5",
        "outputId": "8aa2efc4-bc1c-42ff-9a5b-e08d137e1921"
      },
      "source": [
        "review = re.sub('[^a-zA-Z]', ' ', 'The dog is meow')\n",
        "review = review.lower()\n",
        "review = review.split()\n",
        "    \n",
        "review = [ps.stem(word) for word in review if not word in stopwords.words('english')]\n",
        "review = ' '.join(review)\n",
        "review"
      ],
      "execution_count": 77,
      "outputs": [
        {
          "output_type": "execute_result",
          "data": {
            "application/vnd.google.colaboratory.intrinsic+json": {
              "type": "string"
            },
            "text/plain": [
              "'dog meow'"
            ]
          },
          "metadata": {},
          "execution_count": 77
        }
      ]
    },
    {
      "cell_type": "code",
      "metadata": {
        "id": "qv9WA9vxs6DI"
      },
      "source": [
        "val = tfidf_v.transform([review]).toarray()"
      ],
      "execution_count": 51,
      "outputs": []
    },
    {
      "cell_type": "code",
      "metadata": {
        "colab": {
          "base_uri": "https://localhost:8080/"
        },
        "id": "fsMwChsSs8e5",
        "outputId": "95eadcd0-6207-4ac8-dce5-33af5b3f60ea"
      },
      "source": [
        "classifier.predict(val)"
      ],
      "execution_count": 52,
      "outputs": [
        {
          "output_type": "execute_result",
          "data": {
            "text/plain": [
              "array([1], dtype=int8)"
            ]
          },
          "metadata": {},
          "execution_count": 52
        }
      ]
    },
    {
      "cell_type": "code",
      "metadata": {
        "id": "4szfjETbtiTR"
      },
      "source": [
        "import pickle"
      ],
      "execution_count": 44,
      "outputs": []
    },
    {
      "cell_type": "code",
      "metadata": {
        "id": "sl-pd3wMtjG5"
      },
      "source": [
        "pickle.dump(classifier, open('model2.pkl', 'wb'))"
      ],
      "execution_count": 45,
      "outputs": []
    },
    {
      "cell_type": "code",
      "metadata": {
        "id": "z5VcVwOgtjPE"
      },
      "source": [
        "pickle.dump(tfidf_v, open('tfidfvect2.pkl', 'wb'))"
      ],
      "execution_count": 46,
      "outputs": []
    }
  ]
}